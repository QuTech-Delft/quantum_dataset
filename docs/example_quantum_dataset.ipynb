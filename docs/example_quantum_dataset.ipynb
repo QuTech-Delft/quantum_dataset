{
 "cells": [
  {
   "cell_type": "markdown",
   "metadata": {},
   "source": [
    "# Quantum DataSet"
   ]
  },
  {
   "cell_type": "markdown",
   "metadata": {},
   "source": [
    "The quantum dataset is a collection of measurements on quantum devices. Using Python one can easily download the collection\n",
    "and analyse some of the datasets in the collection.\n",
    "\n",
    "Pieter Eendebak <pieter.eendebak@tno.nl>"
   ]
  },
  {
   "cell_type": "code",
   "execution_count": 2,
   "metadata": {},
   "outputs": [],
   "source": [
    "import os\n",
    "import tempfile\n",
    "import webbrowser\n",
    "import numpy as np\n",
    "import matplotlib.pyplot as plt\n",
    "import pyqtgraph\n",
    "\n",
    "import qtt\n",
    "from quantumdataset import QuantumDataset, install_quantum_dataset\n",
    "from quantumdataset.analysis import analyse_time_rabi, analyse_time_ramsey, analyse_pinchoff, analyse_coulomb, analyse_polarization_line, analyse_RTS, analyse_allxy\n",
    "\n",
    "_ = pyqtgraph.mkQApp()"
   ]
  },
  {
   "cell_type": "markdown",
   "metadata": {},
   "source": [
    "First we create the QuantumDataset object. By if the data is not available at the specified location, the latest data is downloaded automatically. "
   ]
  },
  {
   "cell_type": "code",
   "execution_count": 2,
   "metadata": {},
   "outputs": [
    {
     "name": "stdout",
     "output_type": "stream",
     "text": [
      "downloading Quantum Dataset from https://github.com/QuTech-Delft/quantum_dataset/releases/download/Test/QuantumDataset.zip to C:\\Users\\EENDEB~1\\AppData\\Local\\Temp\\quantum-dataset-wkryumj4\n",
      "   extracting data\n",
      "tag allxy: 3 results\n",
      "tag anticrossing: 26 results\n",
      "tag bias_triangles: 1 results\n",
      "tag coulomb: 8 results\n",
      "tag elzerman_detuning_scan: 3 results\n",
      "tag elzerman_traces: 1 results\n",
      "tag od: 0 results\n",
      "tag pinchoff: 1 results\n",
      "tag pol_fitting: 6 results\n",
      "tag resonance_scan: 1 results\n",
      "tag rts: 5 results\n",
      "tag time_rabi: 2 results\n",
      "tag time_ramsey: 1 results\n"
     ]
    }
   ],
   "source": [
    "dataset_location = tempfile.mkdtemp(prefix='quantum-dataset-')\n",
    "\n",
    "quantum_dataset = QuantumDataset(datadir=dataset_location)\n",
    "quantum_dataset.show_data()"
   ]
  },
  {
   "cell_type": "markdown",
   "metadata": {},
   "source": [
    "Load a dataset from the database"
   ]
  },
  {
   "cell_type": "code",
   "execution_count": 3,
   "metadata": {},
   "outputs": [
    {
     "name": "stdout",
     "output_type": "stream",
     "text": [
      "datasets for allxy: ['19-25-40_qtt_generic.json', '19-27-23_qtt_generic.json', '20-48-56_qtt_generic.json']\n"
     ]
    }
   ],
   "source": [
    "subtags = quantum_dataset.list_subtags('allxy')\n",
    "print(f'datasets for allxy: {subtags}')\n",
    "\n",
    "dataset = quantum_dataset.load_dataset('allxy', subtags[0])\n",
    "dataset_dictionary = quantum_dataset.load_dataset('allxy', subtags[0], output_format='dict')"
   ]
  },
  {
   "cell_type": "markdown",
   "metadata": {},
   "source": [
    "For many of the datasets in the database there already exist dedicated analysis methods. We can apply the methods, and create an overview page.\n"
   ]
  },
  {
   "cell_type": "code",
   "execution_count": 10,
   "metadata": {},
   "outputs": [],
   "source": [
    "analysis_functions = {'pinchoff': qtt.algorithms.gatesweep.analyseGateSweep, 'pol_fitting': analyse_polarization_line,\n",
    "                  'coulomb': analyse_coulomb, 'rts': analyse_RTS, 'time_rabi': analyse_time_rabi, 'time_ramsey': analyse_time_ramsey, 'allxy': analyse_allxy}"
   ]
  },
  {
   "cell_type": "code",
   "execution_count": 5,
   "metadata": {},
   "outputs": [
    {
     "data": {
      "image/png": "[encoded data removed]",
      "text/plain": [
       "<Figure size 432x288 with 1 Axes>"
      ]
     },
     "metadata": {},
     "output_type": "display_data"
    }
   ],
   "source": [
    "results = analyse_coulomb(quantum_dataset.load_dataset('coulomb', 0), fig=1)"
   ]
  },
  {
   "cell_type": "markdown",
   "metadata": {},
   "source": [
    "## Generate an overview page"
   ]
  },
  {
   "cell_type": "code",
   "execution_count": 6,
   "metadata": {},
   "outputs": [
    {
     "name": "stdout",
     "output_type": "stream",
     "text": [
      "generate_results_page: tag allxy\n",
      "generate_results_page allxy: 0/3: dataset_name 19-25-40_qtt_generic.json\n",
      "generate_results_page allxy: 1/3: dataset_name 19-27-23_qtt_generic.json\n",
      "generate_results_page allxy: 2/3: dataset_name 20-48-56_qtt_generic.json\n",
      "generate_results_page: tag anticrossing\n",
      "generate_results_page anticrossing: 0/26: dataset_name 2017-12-22_14-27-28_qtt_scan2Dturbo_P2_P3.json\n"
     ]
    },
    {
     "name": "stderr",
     "output_type": "stream",
     "text": [
      "c:\\projects\\qcodes\\qcodes\\plots\\qcmatplotlib.py:423: MatplotlibDeprecationWarning: \n",
      "The set_clim function was deprecated in Matplotlib 3.1 and will be removed in 3.3. Use ScalarMappable.set_clim instead.\n",
      "  ax.qcodes_colorbar.set_clim(cmin, cmax)\n"
     ]
    },
    {
     "name": "stdout",
     "output_type": "stream",
     "text": [
      "generate_results_page anticrossing: 1/26: dataset_name 2017-12-22_14-55-58_qtt_scan2Dturbo_P2_P3.json\n",
      "generate_results_page anticrossing: 2/26: dataset_name 2017-12-22_16-29-19_qtt_scan2Dturbo_P2_P3.json\n",
      "generate_results_page anticrossing: 3/26: dataset_name 2018-01-02_10-47-41_qtt_videomode_2d_single.json\n",
      "generate_results_page anticrossing: 4/26: dataset_name 2018-01-07_22-35-15_qtt_videomode_2d_single.json\n",
      "generate_results_page anticrossing: 5/26: dataset_name 2018-01-08_11-02-59_qtt_videomode_2d_single.json\n",
      "generate_results_page anticrossing: 6/26: dataset_name 2018-01-08_11-03-17_qtt_videomode_2d_single.json\n",
      "generate_results_page anticrossing: 7/26: dataset_name 2018-01-08_11-03-33_qtt_videomode_2d_single.json\n",
      "generate_results_page anticrossing: 8/26: dataset_name 2018-01-08_11-03-54_qtt_videomode_2d_single.json\n",
      "generate_results_page anticrossing: 9/26: dataset_name 2018-01-08_11-04-16_qtt_videomode_2d_single.json\n",
      "generate_results_page anticrossing: 10/26: dataset_name 2018-01-08_11-04-28_qtt_videomode_2d_single.json\n",
      "generate_results_page anticrossing: 11/26: dataset_name 2018-01-08_11-53-31_qtt_videomode_2d_single.json\n",
      "generate_results_page anticrossing: 12/26: dataset_name 2018-01-08_11-55-33_qtt_videomode_2d_single.json\n",
      "generate_results_page anticrossing: 13/26: dataset_name 2018-01-08_11-57-44_qtt_videomode_2d_single.json\n",
      "generate_results_page anticrossing: 14/26: dataset_name 2018-01-17_18-25-34_qtt_scan2Dturbovec_VP4_VP3.json\n",
      "generate_results_page anticrossing: 15/26: dataset_name 2018-01-19_00-40-45_qtt_videomode_2d_single_P6_P5.json\n",
      "generate_results_page anticrossing: 16/26: dataset_name 2018-01-19_13-01-21_qtt_videomode_2d_single_P6_P5.json\n",
      "generate_results_page anticrossing: 17/26: dataset_name 2018-01-19_13-14-26_qtt_videomode_2d_single_P6_P5.json\n",
      "generate_results_page anticrossing: 18/26: dataset_name 2018-01-26_14-29-18_qtt_videomode_2d_single_P6_P5.json\n",
      "generate_results_page anticrossing: 19/26: dataset_name 2018-02-09_22-42-16_qtt_videomode_2d_single_P7_P5.json\n",
      "generate_results_page anticrossing: 20/26: dataset_name 2018-02-20_12-56-35_qtt_scan2Dturbovec_VP3_VP2.json\n",
      "generate_results_page anticrossing: 21/26: dataset_name 2018-04-03_10-24-07_qtt_videomode_2d_single_P6_P5.json\n",
      "generate_results_page anticrossing: 22/26: dataset_name 2018-07-30_13-23-56_qtt_videomode_2d_single_P5_P4.json\n",
      "generate_results_page anticrossing: 23/26: dataset_name 2018-07-30_14-42-43_qtt_videomode_2d_single_P5_P4.json\n",
      "generate_results_page anticrossing: 24/26: dataset_name 2018-07-31_09-58-47_qtt_videomode_2d_single_P5_P4.json\n",
      "generate_results_page anticrossing: 25/26: dataset_name 2019-04-05_22-08-24_qtt_videomode_2d_single.json\n",
      "generate_results_page: tag bias_triangles\n",
      "generate_results_page bias_triangles: 0/1: dataset_name 2019-04-07_15-29-35_qtt_videomode_2d_single.json\n",
      "generate_results_page: tag coulomb\n",
      "generate_results_page coulomb: 0/8: dataset_name 2018-07-23_21-04-14_qtt_scan1Dfastvec_sweepparam.json\n",
      "generate_results_page coulomb: 1/8: dataset_name 2018-07-24_10-51-36_qtt_scan1Dfast_X2.json\n",
      "generate_results_page coulomb: 2/8: dataset_name 2018-07-31_09-49-53_qtt_scan1Dfast_X2.json\n",
      "generate_results_page coulomb: 3/8: dataset_name 2018-07-31_10-02-54_qtt_scan1Dfast_X2.json\n",
      "generate_results_page coulomb: 4/8: dataset_name 2019-09-16_00-01-09_qtt_scan1Dfast.json\n",
      "generate_results_page coulomb: 5/8: dataset_name 2019-09-16_00-08-58_qtt_scan1Dfast.json\n",
      "generate_results_page coulomb: 6/8: dataset_name 2019_13-13-16_qtt_sensingdot_t.fastTune.json\n",
      "generate_results_page coulomb: 7/8: dataset_name si28_2019-08-27_17-52-06_qtt_scan1Dfast.json\n",
      "generate_results_page: tag elzerman_detuning_scan\n",
      "generate_results_page elzerman_detuning_scan: 0/3: dataset_name 2019-09-07_21-58-05_qtt_vstack.json\n"
     ]
    },
    {
     "name": "stderr",
     "output_type": "stream",
     "text": [
      "c:\\projects\\qcodes\\qcodes\\plots\\qcmatplotlib.py:423: MatplotlibDeprecationWarning: \n",
      "The set_clim function was deprecated in Matplotlib 3.1 and will be removed in 3.3. Use ScalarMappable.set_clim instead.\n",
      "  ax.qcodes_colorbar.set_clim(cmin, cmax)\n"
     ]
    },
    {
     "name": "stdout",
     "output_type": "stream",
     "text": [
      "generate_results_page elzerman_detuning_scan: 1/3: dataset_name C__data_tmp_xx_2019-05-28_11-39-39_qtt_generic.json\n",
      "generate_results_page elzerman_detuning_scan: 2/3: dataset_name C__data_tmp_xx_2019-05-28_14-49-00_qtt_generic.json\n",
      "generate_results_page: tag elzerman_traces\n",
      "generate_results_page elzerman_traces: 0/1: dataset_name 2019-09-03_01-38-51_qtt_elzerman.json\n",
      "generate_results_page: tag od\n",
      "generate_results_page: tag pinchoff\n",
      "generate_results_page pinchoff: 0/1: dataset_name 2018-07-17_12-49-22_qtt_scan1D_D0.json\n",
      "analyseGateSweep: pinch-off point -294.000, value 0.054\n",
      "generate_results_page: tag pol_fitting\n",
      "generate_results_page pol_fitting: 0/6: dataset_name 10-08-2018_19-16-35_qtt_scan1Dfastvec_P2(1)_P3(-1).json\n",
      "pol_fitting on dataset: 2019-11-05/14-24-28_qtt_generic\n",
      "generate_results_page pol_fitting: 1/6: dataset_name 10-08-2018_19-17-00_qtt_scan1Dfastvec_P2(1)_P3(-1).json\n",
      "pol_fitting on dataset: 2019-11-05/14-24-28_qtt_generic\n",
      "generate_results_page pol_fitting: 2/6: dataset_name 10-08-2018_19-22-09_qtt_scan1Dfastvec_P2(1)_P3(-1).json\n",
      "pol_fitting on dataset: 2019-11-05/14-24-28_qtt_generic\n",
      "generate_results_page pol_fitting: 3/6: dataset_name 10-08-2018_19-24-07_qtt_scan1Dfastvec_P2(1)_P3(-1).json\n",
      "pol_fitting on dataset: 2019-11-05/14-24-28_qtt_generic\n",
      "generate_results_page pol_fitting: 4/6: dataset_name 10-08-2018_19-30-22_qtt_scan1Dfastvec_P2(1)_P3(-1).json\n",
      "pol_fitting on dataset: 2019-11-05/14-24-29_qtt_generic\n",
      "generate_results_page pol_fitting: 5/6: dataset_name 2019-09-16_00-09-03_qtt_scan1Dfast.json\n",
      "pol_fitting on dataset: 2019-11-05/14-24-29_qtt_generic\n",
      "generate_results_page: tag resonance_scan\n",
      "generate_results_page resonance_scan: 0/1: dataset_name si28_2019-05-20_16-17-15_qtt_scan1D.json\n",
      "generate_results_page: tag rts\n",
      "generate_results_page rts: 0/5: dataset_name 19-05-18_qtt_save_segments.json\n",
      "generate_results_page rts: 1/5: dataset_name 2019-04-12_16-05-53_qtt_scan1D.json\n",
      "generate_results_page rts: 2/5: dataset_name 2019-04-13_00-15-06_qtt_generic.json\n",
      "generate_results_page rts: 3/5: dataset_name 2019-09-16_00-05-10_qtt_acquire_segment_m4i.json\n",
      "generate_results_page rts: 4/5: dataset_name 2019-09-16_00-09-06_qtt_acquire_segment_m4i.json\n",
      "generate_results_page: tag time_rabi\n",
      "generate_results_page time_rabi: 0/2: dataset_name 2019-08-29_17-05-47_qtt_generic.json\n",
      "generate_results_page time_rabi: 1/2: dataset_name 2019_16-22-49_qtt_time_rabi.json\n",
      "generate_results_page: tag time_ramsey\n",
      "generate_results_page time_ramsey: 0/1: dataset_name 2019_16-46-31_qtt_time_ramsey.json\n"
     ]
    },
    {
     "data": {
      "text/plain": [
       "True"
      ]
     },
     "execution_count": 6,
     "metadata": {},
     "output_type": "execute_result"
    }
   ],
   "source": [
    "%matplotlib qt\n",
    "\n",
    "htmldir = tempfile.mkdtemp(prefix='quantum-dataset-results-')\n",
    "quantum_dataset.generate_overview_page(htmldir, plot_functions=analysis_functions)\n",
    "\n",
    "webbrowser.open(os.path.join(htmldir, 'index.html'), new=1)"
   ]
  },
  {
   "cell_type": "markdown",
   "metadata": {},
   "source": [
    "Generate a single results page"
   ]
  },
  {
   "cell_type": "code",
   "execution_count": 7,
   "metadata": {},
   "outputs": [
    {
     "name": "stdout",
     "output_type": "stream",
     "text": [
      "generate_results_page: tag pol_fitting\n",
      "generate_results_page pol_fitting: 0/6: dataset_name 10-08-2018_19-16-35_qtt_scan1Dfastvec_P2(1)_P3(-1).json\n",
      "pol_fitting on dataset: 2019-11-05/14-24-31_qtt_generic\n",
      "generate_results_page pol_fitting: 1/6: dataset_name 10-08-2018_19-17-00_qtt_scan1Dfastvec_P2(1)_P3(-1).json\n",
      "pol_fitting on dataset: 2019-11-05/14-24-32_qtt_generic\n",
      "generate_results_page pol_fitting: 2/6: dataset_name 10-08-2018_19-22-09_qtt_scan1Dfastvec_P2(1)_P3(-1).json\n",
      "pol_fitting on dataset: 2019-11-05/14-24-32_qtt_generic\n",
      "generate_results_page pol_fitting: 3/6: dataset_name 10-08-2018_19-24-07_qtt_scan1Dfastvec_P2(1)_P3(-1).json\n",
      "pol_fitting on dataset: 2019-11-05/14-24-32_qtt_generic\n",
      "generate_results_page pol_fitting: 4/6: dataset_name 10-08-2018_19-30-22_qtt_scan1Dfastvec_P2(1)_P3(-1).json\n",
      "pol_fitting on dataset: 2019-11-05/14-24-32_qtt_generic\n",
      "generate_results_page pol_fitting: 5/6: dataset_name 2019-09-16_00-09-03_qtt_scan1Dfast.json\n",
      "pol_fitting on dataset: 2019-11-05/14-24-33_qtt_generic\n"
     ]
    },
    {
     "data": {
      "text/plain": [
       "True"
      ]
     },
     "execution_count": 7,
     "metadata": {},
     "output_type": "execute_result"
    }
   ],
   "source": [
    "htmldir = qtt.utilities.tools.mkdirc(tempfile.mkdtemp(prefix='quantumdataset-polarization-fitting'))\n",
    "\n",
    "filename = os.path.join(htmldir, 'testpage.html')\n",
    "page = quantum_dataset.generate_results_page('pol_fitting', htmldir, filename, plot_function=analyse_polarization_line)\n",
    "webbrowser.open(filename, new=1)"
   ]
  },
  {
   "cell_type": "markdown",
   "metadata": {},
   "source": [
    "To save additional data, one can create methods using `generate_save_function`."
   ]
  },
  {
   "cell_type": "code",
   "execution_count": 8,
   "metadata": {},
   "outputs": [],
   "source": [
    "for tag in ['anticrossing', 'coulomb', 'pinchoff']:\n",
    "    quantum_dataset.generate_save_function(tag)\n",
    "\n",
    "save_coulomb = quantum_dataset.save_coulomb\n",
    "save_anticrossing = quantum_dataset.save_anticrossing\n",
    "save_pinchoff = quantum_dataset.save_pinchoff"
   ]
  },
  {
   "cell_type": "code",
   "execution_count": null,
   "metadata": {},
   "outputs": [],
   "source": []
  }
 ],
 "metadata": {
  "kernelspec": {
   "display_name": "Python 3",
   "language": "python",
   "name": "python3"
  },
  "language_info": {
   "codemirror_mode": {
    "name": "ipython",
    "version": 3
   },
   "file_extension": ".py",
   "mimetype": "text/x-python",
   "name": "python",
   "nbconvert_exporter": "python",
   "pygments_lexer": "ipython3",
   "version": "3.7.7"
  }
 },
 "nbformat": 4,
 "nbformat_minor": 2
}
