{
 "cells": [
  {
   "cell_type": "markdown",
   "metadata": {},
   "source": [
    "# Quantum DataSet"
   ]
  },
  {
   "cell_type": "markdown",
   "metadata": {},
   "source": [
    "The quantum dataset is a collection of measurements on quantum devices. Using Python one can easily download the collection\n",
    "and analyse some of the datasets in the collection.\n",
    "\n",
    "Pieter Eendebak <pieter.eendebak@tno.nl>"
   ]
  },
  {
   "cell_type": "code",
   "execution_count": 1,
   "metadata": {},
   "outputs": [],
   "source": [
    "import os\n",
    "import tempfile\n",
    "import webbrowser\n",
    "\n",
    "import matplotlib.pyplot as plt\n",
    "import numpy as np\n",
    "\n",
    "%matplotlib inline\n",
    "\n",
    "import qtt\n",
    "\n",
    "from quantumdataset import QuantumDataset, install_quantum_dataset\n",
    "from quantumdataset.analysis import (\n",
    "    analyse_allxy,\n",
    "    analyse_coulomb,\n",
    "    analyse_pinchoff,\n",
    "    analyse_polarization_line,\n",
    "    analyse_RTS,\n",
    "    analyse_time_rabi,\n",
    "    analyse_time_ramsey,\n",
    ")"
   ]
  },
  {
   "cell_type": "markdown",
   "metadata": {},
   "source": [
    "First we create the QuantumDataset object. If the data is not available at the specified location, the latest data is downloaded automatically. "
   ]
  },
  {
   "cell_type": "code",
   "execution_count": 2,
   "metadata": {},
   "outputs": [
    {
     "name": "stdout",
     "output_type": "stream",
     "text": [
      "downloading Quantum Dataset from https://github.com/QuTech-Delft/quantum_dataset/releases/download/Test/QuantumDataset.zip to C:\\Users\\EENDEB~1\\AppData\\Local\\Temp\\quantum-dataset-nyvzig45\n",
      "   extracting data\n",
      "tag allxy: 3 results\n",
      "tag rts: 5 results\n"
     ]
    }
   ],
   "source": [
    "dataset_location = tempfile.mkdtemp(prefix=\"quantum-dataset-\")\n",
    "\n",
    "quantum_dataset = QuantumDataset(datadir=dataset_location)\n",
    "quantum_dataset.tags = [\"allxy\", \"rts\"]\n",
    "quantum_dataset.show_data()"
   ]
  },
  {
   "cell_type": "markdown",
   "metadata": {},
   "source": [
    "Load a dataset from the database"
   ]
  },
  {
   "cell_type": "code",
   "execution_count": 3,
   "metadata": {},
   "outputs": [
    {
     "name": "stdout",
     "output_type": "stream",
     "text": [
      "datasets for allxy: ['2020-09-03_08-59-32_qtt_allxy_002.json', 'allxy_05-27-11_qtt_user_experiment.json', 'allxy_05-29-07_qtt_user_experiment_x.json']\n"
     ]
    }
   ],
   "source": [
    "subtags = quantum_dataset.list_subtags(\"allxy\")\n",
    "print(f\"datasets for allxy: {subtags}\")\n",
    "\n",
    "dataset = quantum_dataset.load_dataset(\"allxy\", subtags[0])\n",
    "dataset_dictionary = quantum_dataset.load_dataset(\"allxy\", subtags[0], output_format=\"dict\")"
   ]
  },
  {
   "cell_type": "markdown",
   "metadata": {},
   "source": [
    "For many of the datasets in the database there already exist dedicated analysis methods. We can apply the methods, and create an overview page.\n"
   ]
  },
  {
   "cell_type": "code",
   "execution_count": 4,
   "metadata": {},
   "outputs": [],
   "source": [
    "analysis_functions = {\n",
    "    \"pinchoff\": qtt.algorithms.gatesweep.analyseGateSweep,\n",
    "    \"pol_fitting\": analyse_polarization_line,\n",
    "    \"coulomb\": analyse_coulomb,\n",
    "    \"rts\": analyse_RTS,\n",
    "    \"time_rabi\": analyse_time_rabi,\n",
    "    \"time_ramsey\": analyse_time_ramsey,\n",
    "    \"allxy\": analyse_allxy,\n",
    "}"
   ]
  },
  {
   "cell_type": "code",
   "execution_count": 5,
   "metadata": {},
   "outputs": [
    {
     "data": {
      "image/png": "[encoded data removed]",
      "text/plain": [
       "<Figure size 432x288 with 1 Axes>"
      ]
     },
     "metadata": {},
     "output_type": "display_data"
    }
   ],
   "source": [
    "results = analyse_coulomb(quantum_dataset.load_dataset(\"coulomb\", 0), fig=1)"
   ]
  },
  {
   "cell_type": "markdown",
   "metadata": {},
   "source": [
    "## Generate an overview page"
   ]
  },
  {
   "cell_type": "code",
   "execution_count": 6,
   "metadata": {},
   "outputs": [
    {
     "name": "stdout",
     "output_type": "stream",
     "text": [
      "generate_results_page: tag allxy\n",
      "generate_results_page allxy: 0/3: dataset_name 2020-09-03_08-59-32_qtt_allxy_002.json\n",
      "generate_results_page allxy: 1/3: dataset_name allxy_05-27-11_qtt_user_experiment.json\n",
      "generate_results_page allxy: 2/3: dataset_name allxy_05-29-07_qtt_user_experiment_x.json\n",
      "generate_results_page: tag rts\n",
      "generate_results_page rts: 0/5: dataset_name 19-05-18_qtt_save_segments.json\n",
      "generate_results_page rts: 1/5: dataset_name 2019-04-12_16-05-53_qtt_scan1D.json\n",
      "generate_results_page rts: 2/5: dataset_name 2019-04-13_00-15-06_qtt_generic.json\n",
      "generate_results_page rts: 3/5: dataset_name 2019-09-16_00-05-10_qtt_acquire_segment_m4i.json\n",
      "generate_results_page rts: 4/5: dataset_name 2019-09-16_00-09-06_qtt_acquire_segment_m4i.json\n"
     ]
    },
    {
     "data": {
      "text/plain": [
       "True"
      ]
     },
     "execution_count": 6,
     "metadata": {},
     "output_type": "execute_result"
    }
   ],
   "source": [
    "%matplotlib qt\n",
    "\n",
    "htmldir = tempfile.mkdtemp(prefix=\"quantum-dataset-results-\")\n",
    "quantum_dataset.generate_overview_page(htmldir, plot_functions=analysis_functions)\n",
    "\n",
    "webbrowser.open(os.path.join(htmldir, \"index.html\"), new=1)"
   ]
  },
  {
   "cell_type": "markdown",
   "metadata": {},
   "source": [
    "Generate a single results page"
   ]
  },
  {
   "cell_type": "code",
   "execution_count": 7,
   "metadata": {},
   "outputs": [
    {
     "name": "stdout",
     "output_type": "stream",
     "text": [
      "generate_results_page: tag pol_fitting\n",
      "generate_results_page pol_fitting: 0/6: dataset_name 10-08-2018_19-16-35_qtt_scan1Dfastvec_P2(1)_P3(-1).json\n",
      "generate_results_page pol_fitting: 1/6: dataset_name 10-08-2018_19-17-00_qtt_scan1Dfastvec_P2(1)_P3(-1).json\n",
      "generate_results_page pol_fitting: 2/6: dataset_name 10-08-2018_19-22-09_qtt_scan1Dfastvec_P2(1)_P3(-1).json\n",
      "generate_results_page pol_fitting: 3/6: dataset_name 10-08-2018_19-24-07_qtt_scan1Dfastvec_P2(1)_P3(-1).json\n",
      "generate_results_page pol_fitting: 4/6: dataset_name 10-08-2018_19-30-22_qtt_scan1Dfastvec_P2(1)_P3(-1).json\n",
      "generate_results_page pol_fitting: 5/6: dataset_name 2019-09-16_00-09-03_qtt_scan1Dfast.json\n"
     ]
    },
    {
     "data": {
      "text/plain": [
       "True"
      ]
     },
     "execution_count": 7,
     "metadata": {},
     "output_type": "execute_result"
    }
   ],
   "source": [
    "htmldir = qtt.utilities.tools.mkdirc(tempfile.mkdtemp(prefix=\"quantumdataset-polarization-fitting\"))\n",
    "\n",
    "filename = os.path.join(htmldir, \"testpage.html\")\n",
    "page = quantum_dataset.generate_results_page(\"pol_fitting\", htmldir, filename, plot_function=analyse_polarization_line)\n",
    "webbrowser.open(filename, new=1)"
   ]
  },
  {
   "cell_type": "markdown",
   "metadata": {},
   "source": [
    "To save additional data, one can create methods using `generate_save_function`."
   ]
  },
  {
   "cell_type": "code",
   "execution_count": 8,
   "metadata": {},
   "outputs": [],
   "source": [
    "for tag in [\"anticrossing\", \"coulomb\", \"pinchoff\"]:\n",
    "    quantum_dataset.generate_save_function(tag)\n",
    "\n",
    "save_coulomb = quantum_dataset.save_coulomb\n",
    "save_anticrossing = quantum_dataset.save_anticrossing\n",
    "save_pinchoff = quantum_dataset.save_pinchoff"
   ]
  },
  {
   "cell_type": "code",
   "execution_count": 9,
   "metadata": {},
   "outputs": [],
   "source": [
    "plt.close(\"all\")"
   ]
  }
 ],
 "metadata": {
  "kernelspec": {
   "display_name": "Python 3 (ipykernel)",
   "language": "python",
   "name": "python3"
  },
  "language_info": {
   "codemirror_mode": {
    "name": "ipython",
    "version": 3
   },
   "file_extension": ".py",
   "mimetype": "text/x-python",
   "name": "python",
   "nbconvert_exporter": "python",
   "pygments_lexer": "ipython3",
   "version": "3.8.6"
  }
 },
 "nbformat": 4,
 "nbformat_minor": 4
}
