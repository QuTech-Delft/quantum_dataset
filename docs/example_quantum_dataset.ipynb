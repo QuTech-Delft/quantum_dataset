{
 "cells": [
  {
   "cell_type": "markdown",
   "metadata": {},
   "source": [
    "# Quantum DataSet"
   ]
  },
  {
   "cell_type": "markdown",
   "metadata": {},
   "source": [
    "The quantum dataset is a collection of measurements on quantum devices. Using Python one can easily download the collection\n",
    "and analyse some of the datasets in the collection.\n",
    "\n",
    "* Installation: `pip install quantum_dataset`\n",
    "* For more information see: https://github.com/QuTech-Delft/quantum_dataset\n",
    "\n",
    "Pieter Eendebak <pieter.eendebak@tno.nl>"
   ]
  },
  {
   "cell_type": "code",
   "execution_count": 1,
   "metadata": {},
   "outputs": [],
   "source": [
    "import os\n",
    "import tempfile\n",
    "import webbrowser\n",
    "from pathlib import Path\n",
    "\n",
    "import matplotlib.pyplot as plt\n",
    "import numpy as np\n",
    "\n",
    "%matplotlib inline\n",
    "\n",
    "from quantumdataset import QuantumDataset"
   ]
  },
  {
   "cell_type": "markdown",
   "metadata": {},
   "source": [
    "First we create the QuantumDataset object. If the data is not available at the specified location, the latest data is downloaded automatically. "
   ]
  },
  {
   "cell_type": "code",
   "execution_count": 2,
   "metadata": {},
   "outputs": [
    {
     "name": "stdout",
     "output_type": "stream",
     "text": [
      "downloading Quantum Dataset from https://github.com/QuTech-Delft/quantum_dataset/releases/download/Test/QuantumDataset-0.2.zip to C:\\Users\\EENDEB~1\\AppData\\Local\\Temp\\quantum-dataset-x9t1pvce\n",
      "   extracting data...\n",
      "tag addition_line_scan: 2 results\n",
      "tag allxy: 3 results\n",
      "tag anticrossing: 22 results\n",
      "tag bias_triangles: 1 results\n",
      "tag coulomb: 8 results\n",
      "tag elzerman_detuning_scan: 3 results\n",
      "tag elzerman_traces: 1 results\n",
      "tag flipping: 2 results\n",
      "tag frequency_rabi: 3 results\n",
      "tag phase_experiment: 4 results\n",
      "tag photo_assisted_tunneling: 1 results\n",
      "tag pinchoff: 1 results\n",
      "tag pol_fitting: 6 results\n",
      "tag resonance_scan: 1 results\n",
      "tag rts: 5 results\n",
      "tag time_rabi: 3 results\n",
      "tag time_ramsey: 3 results\n"
     ]
    }
   ],
   "source": [
    "dataset_location = Path(tempfile.mkdtemp(prefix=\"quantum-dataset-\"))\n",
    "\n",
    "quantum_dataset = QuantumDataset(data_directory=dataset_location)\n",
    "quantum_dataset.show_data()"
   ]
  },
  {
   "cell_type": "markdown",
   "metadata": {},
   "source": [
    "Load a dataset from the database"
   ]
  },
  {
   "cell_type": "code",
   "execution_count": 3,
   "metadata": {},
   "outputs": [
    {
     "name": "stdout",
     "output_type": "stream",
     "text": [
      "datasets for allxy: ['2019-11-05_14-34-35_qtt_allxy.json', '2019-11-05_14-34-37_qtt_allxy.json', '2019-11-05_14-34-39_qtt_allxy.json']\n",
      "<xarray.Dataset>\n",
      "Dimensions:  (index: 21)\n",
      "Coordinates:\n",
      "  * index    (index) int32 0 1 2 3 4 5 6 7 8 9 10 11 12 13 14 15 16 17 18 19 20\n",
      "Data variables:\n",
      "    allxy    (index) float64 0.12 0.1653 0.136 0.1707 ... 0.7893 0.788 0.7933\n"
     ]
    }
   ],
   "source": [
    "subtags = quantum_dataset.list_subtags(\"allxy\")\n",
    "print(f\"datasets for allxy: {subtags}\")\n",
    "\n",
    "dataset = quantum_dataset.load_dataset(\"allxy\", subtags[0])\n",
    "dataset = quantum_dataset.load_dataset(\"allxy\", subtags[0])\n",
    "print(dataset)"
   ]
  },
  {
   "cell_type": "markdown",
   "metadata": {},
   "source": [
    "For many of the datasets in the database there already exist dedicated analysis methods. We can apply the methods, and create an overview page.\n"
   ]
  },
  {
   "cell_type": "code",
   "execution_count": 4,
   "metadata": {},
   "outputs": [
    {
     "name": "stdout",
     "output_type": "stream",
     "text": [
      "tag time_rabi: 3 result(s)\n"
     ]
    },
    {
     "data": {
      "image/png": "[encoded data removed]",
      "text/plain": [
       "<Figure size 432x288 with 3 Axes>"
      ]
     },
     "metadata": {
      "needs_background": "light"
     },
     "output_type": "display_data"
    }
   ],
   "source": [
    "quantum_dataset.show(\"time_rabi\", fig=1)"
   ]
  },
  {
   "cell_type": "markdown",
   "metadata": {},
   "source": [
    "## Generate an overview page"
   ]
  },
  {
   "cell_type": "code",
   "execution_count": null,
   "metadata": {},
   "outputs": [
    {
     "name": "stdout",
     "output_type": "stream",
     "text": [
      "generate_results_page: tag addition_line_scan\n",
      "  generate_results_page addition_line_scan: 0/2: name addition_line_scan_0000\n",
      "  generate_results_page addition_line_scan: 1/2: name addition_line_scan_0004\n",
      "generate_results_page: tag allxy\n",
      "  generate_results_page allxy: 0/3: name 2019-11-05_14-34-35_qtt_allxy.json\n",
      "  generate_results_page allxy: 1/3: name 2019-11-05_14-34-37_qtt_allxy.json\n",
      "  generate_results_page allxy: 2/3: name 2019-11-05_14-34-39_qtt_allxy.json\n",
      "generate_results_page: tag anticrossing\n",
      "  generate_results_page anticrossing: 0/22: name 2017-12-22_14-27-28_qtt_scan2Dturbo_P2_P3.json\n",
      "  generate_results_page anticrossing: 1/22: name 2017-12-22_14-55-58_qtt_scan2Dturbo_P2_P3.json\n",
      "  generate_results_page anticrossing: 2/22: name 2017-12-22_16-29-19_qtt_scan2Dturbo_P2_P3.json\n",
      "  generate_results_page anticrossing: 3/22: name 2018-01-02_10-47-41_qtt_videomode_2d_single.json\n",
      "  generate_results_page anticrossing: 4/22: name 2018-01-07_22-35-15_qtt_videomode_2d_single.json\n",
      "  generate_results_page anticrossing: 5/22: name 2018-01-08_11-02-59_qtt_videomode_2d_single.json\n",
      "  generate_results_page anticrossing: 6/22: name 2018-01-08_11-03-17_qtt_videomode_2d_single.json\n",
      "  generate_results_page anticrossing: 7/22: name 2018-01-08_11-03-33_qtt_videomode_2d_single.json\n",
      "  generate_results_page anticrossing: 8/22: name 2018-01-08_11-03-54_qtt_videomode_2d_single.json\n",
      "  generate_results_page anticrossing: 9/22: name 2018-01-08_11-04-16_qtt_videomode_2d_single.json\n",
      "  generate_results_page anticrossing: 10/22: name 2018-01-08_11-04-28_qtt_videomode_2d_single.json\n",
      "  generate_results_page anticrossing: 11/22: name 2018-01-08_11-53-31_qtt_videomode_2d_single.json\n",
      "  generate_results_page anticrossing: 12/22: name 2018-01-08_11-55-33_qtt_videomode_2d_single.json\n",
      "  generate_results_page anticrossing: 13/22: name 2018-01-08_11-57-44_qtt_videomode_2d_single.json\n",
      "  generate_results_page anticrossing: 14/22: name 2018-01-19_00-40-45_qtt_videomode_2d_single_P6_P5.json\n",
      "  generate_results_page anticrossing: 15/22: name 2018-01-19_13-01-21_qtt_videomode_2d_single_P6_P5.json\n",
      "  generate_results_page anticrossing: 16/22: name 2018-01-19_13-14-26_qtt_videomode_2d_single_P6_P5.json\n",
      "  generate_results_page anticrossing: 17/22: name 2018-01-26_14-29-18_qtt_videomode_2d_single_P6_P5.json\n",
      "  generate_results_page anticrossing: 18/22: name 2018-02-09_22-42-16_qtt_videomode_2d_single_P7_P5.json\n",
      "  generate_results_page anticrossing: 19/22: name 2018-04-03_10-24-07_qtt_videomode_2d_single_P6_P5.json\n",
      "  generate_results_page anticrossing: 20/22: name 2018-07-30_13-23-56_qtt_videomode_2d_single_P5_P4.json\n",
      "  generate_results_page anticrossing: 21/22: name 2018-07-30_14-42-43_qtt_videomode_2d_single_P5_P4.json\n",
      "generate_results_page: tag bias_triangles\n",
      "  generate_results_page bias_triangles: 0/1: name 2019-04-07_15-29-35_qtt_videomode_2d_single.json\n",
      "generate_results_page: tag coulomb\n",
      "  generate_results_page coulomb: 0/8: name 2018-07-23_21-04-14_qtt_scan1Dfastvec.json\n",
      "  generate_results_page coulomb: 1/8: name 2018-07-24_10-51-36_qtt_scan1Dfast_X2.json\n",
      "  generate_results_page coulomb: 2/8: name 2018-07-31_09-49-53_qtt_scan1Dfast_X2.json\n",
      "  generate_results_page coulomb: 3/8: name 2018-07-31_10-02-54_qtt_scan1Dfast_X2.json\n",
      "  generate_results_page coulomb: 4/8: name 2019-09-16_00-01-09_qtt_scan1Dfast.json\n",
      "  generate_results_page coulomb: 5/8: name 2019-09-16_00-08-58_qtt_scan1Dfast.json\n",
      "  generate_results_page coulomb: 6/8: name 2019_13-13-16_qtt_sensingdot_t.fastTune.json\n",
      "  generate_results_page coulomb: 7/8: name si28_2019-08-27_17-52-06_qtt_scan1Dfast.json\n",
      "generate_results_page: tag elzerman_detuning_scan\n",
      "  generate_results_page elzerman_detuning_scan: 0/3: name 2019-09-07_21-58-05_qtt_vstack.json\n"
     ]
    }
   ],
   "source": [
    "htmldir = Path(dataset_location) / \"html\"\n",
    "quantum_dataset.generate_overview_page(htmldir)  # , plot_functions=analysis_functions)\n",
    "\n",
    "# to open the webpage, run the following commented line\n",
    "# webbrowser.open(os.path.join(htmldir, \"index.html\"), new=1)"
   ]
  },
  {
   "cell_type": "markdown",
   "metadata": {},
   "source": [
    "Generate a single results page"
   ]
  },
  {
   "cell_type": "code",
   "execution_count": null,
   "metadata": {},
   "outputs": [],
   "source": [
    "filename = os.path.join(htmldir, \"testpage.html\")\n",
    "page = quantum_dataset.generate_results_page(\"pol_fitting\", htmldir, filename)"
   ]
  },
  {
   "cell_type": "markdown",
   "metadata": {},
   "source": [
    "To save additional data, one can use the method `save_dataset`."
   ]
  },
  {
   "cell_type": "code",
   "execution_count": 9,
   "metadata": {},
   "outputs": [],
   "source": [
    "plt.close(\"all\")"
   ]
  }
 ],
 "metadata": {
  "kernelspec": {
   "display_name": "Python 3 (ipykernel)",
   "language": "python",
   "name": "python3"
  },
  "language_info": {
   "codemirror_mode": {
    "name": "ipython",
    "version": 3
   },
   "file_extension": ".py",
   "mimetype": "text/x-python",
   "name": "python",
   "nbconvert_exporter": "python",
   "pygments_lexer": "ipython3",
   "version": "3.8.6"
  }
 },
 "nbformat": 4,
 "nbformat_minor": 4
}
